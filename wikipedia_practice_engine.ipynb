{
 "cells": [
  {
   "cell_type": "code",
   "execution_count": 1,
   "metadata": {},
   "outputs": [],
   "source": [
    "import wikipedia, nltk, numpy as np, pandas as pd\n",
    "from sklearn.feature_extraction.text import TfidfVectorizer\n",
    "from sklearn.metrics.pairwise import linear_kernel"
   ]
  },
  {
   "cell_type": "code",
   "execution_count": 2,
   "metadata": {},
   "outputs": [],
   "source": [
    "def filter_pos(raw_text, pos):\n",
    "    '''\n",
    "    This function will take in raw text and return a pandas DataFrame containing a unique set of words \n",
    "    whose parts of speech match what is defined\n",
    "    raw_text: raw string from data source\n",
    "    List pos: a list of strings that define what parts of speech is returned want\n",
    "    '''\n",
    "    columns = ['word', 'tag']\n",
    "    tagged = nltk.pos_tag(nltk.word_tokenize(raw_text))\n",
    "    df = pd.DataFrame([x for x in tagged], columns=columns)\n",
    "    filtered = df[df.tag.isin(pos)].drop_duplicates().reset_index(drop=True)\n",
    "    return filtered\n",
    "            \n",
    "            "
   ]
  },
  {
   "cell_type": "code",
   "execution_count": 3,
   "metadata": {},
   "outputs": [],
   "source": [
    "def makeSampleDataset(list_of_foods, pos):\n",
    "    dishes_row = []\n",
    "    dd_columns = ['title', 'description']\n",
    "    verified_list = []\n",
    "    \n",
    "    for i in range(len(list_of_foods)):\n",
    "        wikipedia_title = (wikipedia.WikipediaPage(title = list_of_foods[i]).title)\n",
    "        if wikipedia_title != None:\n",
    "            verified_list.append(list_of_foods[i])\n",
    "            \n",
    "    for i in range(len(verified_list)):\n",
    "        # gets the content from wikipedia\n",
    "        wikipedia_content = (wikipedia.WikipediaPage(title = list_of_foods[i]).content)\n",
    "        filtered_item = filter_pos(wikipedia_content, pos)\n",
    "        \n",
    "        description = np.array([])\n",
    "        for j in range(len(filtered_item)):\n",
    "            description = np.append(description, filtered_item.word[j])\n",
    "            \n",
    "        tup = (list_of_foods[i], ', '.join(description))\n",
    "        dishes_row.append(tup)\n",
    "        \n",
    "    dish_description_df = pd.DataFrame([x for x in dishes_row], columns = dd_columns)\n",
    "    return dish_description_df\n",
    "    "
   ]
  },
  {
   "cell_type": "code",
   "execution_count": 104,
   "metadata": {},
   "outputs": [],
   "source": [
    "# Function that takes in movie title as input and outputs most similar movies\n",
    "def get_recommendations(title, data):\n",
    "    \n",
    "    #Define a TF-IDF Vectorizer Object. Remove all english stop words such as 'the', 'a'\n",
    "    tfidf = TfidfVectorizer(stop_words='english')\n",
    "\n",
    "    # TODO: Change this matrix into the form of columns = (item, descriptor, tfidf_score)\n",
    "    \n",
    "    #Construct the required TF-IDF matrix by fitting and transforming the data\n",
    "    tfidf_matrix = tfidf.fit_transform(data['description'])\n",
    "    print('Size of tfidf_matrix: ', tfidf_matrix.shape)\n",
    "    #tfidf_df = pd.DataFrame(tfidf_matrix)\n",
    "\n",
    "    # Compute the cosine similarity matrix\n",
    "    cosine_sim = linear_kernel(tfidf_matrix, tfidf_matrix)\n",
    "    \n",
    "    #Construct a reverse map of indices and movie titles\n",
    "    indices = pd.Series(data.index, index=data['title']).drop_duplicates()\n",
    "    \n",
    "    # Get the index of the movie that matches the title\n",
    "    idx = indices[title]\n",
    "\n",
    "    # Get the pairwsie similarity scores of all movies with that movie\n",
    "    sim_scores = list(enumerate(cosine_sim[idx]))\n",
    "\n",
    "    # Sort the movies based on the similarity scores\n",
    "    sim_scores = sorted(sim_scores, key=lambda x: x[1], reverse=True)\n",
    "\n",
    "    # Get the scores of the 10 most similar movies\n",
    "    sim_scores = sim_scores[1:11]\n",
    "\n",
    "    # Get the movie indices\n",
    "    item_indices = [i[0] for i in sim_scores]\n",
    "\n",
    "    # Return the top 10 most similar movies\n",
    "    return data['title'].iloc[item_indices], tfidf_matrix"
   ]
  },
  {
   "cell_type": "code",
   "execution_count": 98,
   "metadata": {},
   "outputs": [],
   "source": [
    "pos = ['JJ', 'VB', 'VBG', 'VBP', 'VvBZ']\n",
    "pos_simple = ['JJ', 'NN']\n",
    "# sampleData = makeSampleDataset(['filet mignon', 'steak', 'spaghetti', 'macaroni', 'apple', 'banana', 'pear'], pos_simple)"
   ]
  },
  {
   "cell_type": "code",
   "execution_count": 99,
   "metadata": {},
   "outputs": [],
   "source": [
    "# get_recommendations('macaroni', sampleData)"
   ]
  },
  {
   "cell_type": "code",
   "execution_count": 100,
   "metadata": {},
   "outputs": [],
   "source": [
    "# foodList = pd.DataFrame(pd.read_csv('foodlist.csv'))\n",
    "# foodList = foodList.loc[:, ~foodList.columns.str.contains('^Unnamed')]"
   ]
  },
  {
   "cell_type": "code",
   "execution_count": 101,
   "metadata": {},
   "outputs": [],
   "source": [
    "#foodSampleData = makeSampleDataset(foodList['items'], pos_simple)"
   ]
  },
  {
   "cell_type": "code",
   "execution_count": 102,
   "metadata": {},
   "outputs": [],
   "source": [
    "foodSampleData = pd.read_pickle('foodSampleData')"
   ]
  },
  {
   "cell_type": "code",
   "execution_count": 115,
   "metadata": {},
   "outputs": [
    {
     "name": "stdout",
     "output_type": "stream",
     "text": [
      "('Size of tfidf_matrix: ', (191, 7009))\n"
     ]
    }
   ],
   "source": [
    "recommendations, tfidf_csr_matrix = get_recommendations('Jerky', foodSampleData)"
   ]
  },
  {
   "cell_type": "code",
   "execution_count": 116,
   "metadata": {},
   "outputs": [],
   "source": [
    "tfidfDf = pd.DataFrame(tfidf_csr_matrix.todense())"
   ]
  },
  {
   "cell_type": "code",
   "execution_count": 187,
   "metadata": {},
   "outputs": [
    {
     "data": {
      "text/plain": [
       "0.04963043229519751"
      ]
     },
     "execution_count": 187,
     "metadata": {},
     "output_type": "execute_result"
    }
   ],
   "source": [
    "tfidfDf[5][4]\n",
    "# first one is column(descriptor) second one is row(foodId)"
   ]
  },
  {
   "cell_type": "code",
   "execution_count": 242,
   "metadata": {},
   "outputs": [],
   "source": [
    "def formatUserItemMatrix(mat):\n",
    "    '''\n",
    "    takes in a matrix of {row, column => food_id, descriptor_id} with entries of scores and transforms it into a \n",
    "    dataframe of columns [descriptor_id, user_id]\n",
    "    '''\n",
    "    columns = ['food_id', 'descriptor_id', 'score'] \n",
    "    formattedList = []\n",
    "    for i in range(tfidfDf.shape[1]):\n",
    "        index = tfidfDf.loc[tfidfDf[i] > 0].index\n",
    "        for j in range(len(index)):\n",
    "            # i indicates id of descriptor(column), index[j] indicates id of food(row), \n",
    "            # also get the score for that pair\n",
    "            newRow = (index[j], i, tfidfDf[i][index[j]])\n",
    "            formattedList.append(newRow)\n",
    "\n",
    "    formattedDf = pd.DataFrame(formattedList, columns = columns)\n",
    "    return formattedDf\n"
   ]
  },
  {
   "cell_type": "code",
   "execution_count": null,
   "metadata": {},
   "outputs": [],
   "source": [
    "def formatUserItemMatrix_All(mat):\n",
    "    '''\n",
    "    takes in a matrix of {row, column => food_id, descriptor_id} with entries of scores and transforms it into a \n",
    "    dataframe of columns [descriptor_id, user_id]\n",
    "    '''\n",
    "    columns = ['food_id', 'descriptor_id', 'score'] \n",
    "    formattedList = []\n",
    "    for i in range(tfidfDf.shape[1]):\n",
    "        for j in range(tfidfDf.shape[0]):\n",
    "            # j indicates id of food(row), i indicates id of descriptor(column), \n",
    "            # also get the score for that pair\n",
    "            newRow = (j, i, tfidfDf[i][j])\n",
    "            formattedList.append(newRow)\n",
    "\n",
    "    formattedDf = pd.DataFrame(formattedList, columns = columns)\n",
    "    return formattedDf"
   ]
  },
  {
   "cell_type": "code",
   "execution_count": 243,
   "metadata": {},
   "outputs": [],
   "source": [
    "userItemDf = formatUserItemMatrix(tfidfDf)"
   ]
  },
  {
   "cell_type": "code",
   "execution_count": 246,
   "metadata": {},
   "outputs": [
    {
     "data": {
      "text/html": [
       "<div>\n",
       "<style scoped>\n",
       "    .dataframe tbody tr th:only-of-type {\n",
       "        vertical-align: middle;\n",
       "    }\n",
       "\n",
       "    .dataframe tbody tr th {\n",
       "        vertical-align: top;\n",
       "    }\n",
       "\n",
       "    .dataframe thead th {\n",
       "        text-align: right;\n",
       "    }\n",
       "</style>\n",
       "<table border=\"1\" class=\"dataframe\">\n",
       "  <thead>\n",
       "    <tr style=\"text-align: right;\">\n",
       "      <th></th>\n",
       "      <th>food_id</th>\n",
       "      <th>descriptor_id</th>\n",
       "      <th>score</th>\n",
       "    </tr>\n",
       "  </thead>\n",
       "  <tbody>\n",
       "    <tr>\n",
       "      <th>5</th>\n",
       "      <td>4</td>\n",
       "      <td>5</td>\n",
       "      <td>0.049630</td>\n",
       "    </tr>\n",
       "    <tr>\n",
       "      <th>31</th>\n",
       "      <td>4</td>\n",
       "      <td>23</td>\n",
       "      <td>0.055085</td>\n",
       "    </tr>\n",
       "    <tr>\n",
       "      <th>90</th>\n",
       "      <td>4</td>\n",
       "      <td>46</td>\n",
       "      <td>0.028552</td>\n",
       "    </tr>\n",
       "    <tr>\n",
       "      <th>310</th>\n",
       "      <td>4</td>\n",
       "      <td>158</td>\n",
       "      <td>0.059414</td>\n",
       "    </tr>\n",
       "    <tr>\n",
       "      <th>341</th>\n",
       "      <td>4</td>\n",
       "      <td>171</td>\n",
       "      <td>0.126688</td>\n",
       "    </tr>\n",
       "    <tr>\n",
       "      <th>355</th>\n",
       "      <td>4</td>\n",
       "      <td>174</td>\n",
       "      <td>0.178243</td>\n",
       "    </tr>\n",
       "  </tbody>\n",
       "</table>\n",
       "</div>"
      ],
      "text/plain": [
       "     food_id  descriptor_id     score\n",
       "5          4              5  0.049630\n",
       "31         4             23  0.055085\n",
       "90         4             46  0.028552\n",
       "310        4            158  0.059414\n",
       "341        4            171  0.126688\n",
       "355        4            174  0.178243"
      ]
     },
     "execution_count": 246,
     "metadata": {},
     "output_type": "execute_result"
    }
   ],
   "source": [
    "userItemDf[userItemDf.food_id == 4].head(6)"
   ]
  },
  {
   "cell_type": "code",
   "execution_count": null,
   "metadata": {},
   "outputs": [],
   "source": []
  },
  {
   "cell_type": "code",
   "execution_count": 82,
   "metadata": {},
   "outputs": [],
   "source": [
    "foodSampleData.to_pickle('foodSampleData')"
   ]
  },
  {
   "cell_type": "code",
   "execution_count": 10,
   "metadata": {},
   "outputs": [
    {
     "name": "stdout",
     "output_type": "stream",
     "text": [
      "title                                                  Apple Pie\n",
      "description    apple, pie, tart, principal, ingredient, occas...\n",
      "Name: 0, dtype: object\n"
     ]
    }
   ],
   "source": [
    "print(foodSampleData.iloc[0])"
   ]
  },
  {
   "cell_type": "code",
   "execution_count": 33,
   "metadata": {},
   "outputs": [
    {
     "data": {
      "text/plain": [
       "(191, 2)"
      ]
     },
     "execution_count": 33,
     "metadata": {},
     "output_type": "execute_result"
    }
   ],
   "source": [
    "foodSampleData.shape"
   ]
  },
  {
   "cell_type": "code",
   "execution_count": null,
   "metadata": {},
   "outputs": [],
   "source": []
  },
  {
   "cell_type": "code",
   "execution_count": null,
   "metadata": {},
   "outputs": [],
   "source": []
  },
  {
   "cell_type": "code",
   "execution_count": null,
   "metadata": {},
   "outputs": [],
   "source": []
  }
 ],
 "metadata": {
  "kernelspec": {
   "display_name": "Python 3",
   "language": "python",
   "name": "python3"
  },
  "language_info": {
   "codemirror_mode": {
    "name": "ipython",
    "version": 2
   },
   "file_extension": ".py",
   "mimetype": "text/x-python",
   "name": "python",
   "nbconvert_exporter": "python",
   "pygments_lexer": "ipython2",
   "version": "2.7.14"
  }
 },
 "nbformat": 4,
 "nbformat_minor": 2
}
